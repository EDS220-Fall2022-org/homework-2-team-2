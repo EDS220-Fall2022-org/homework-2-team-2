{
 "cells": [
  {
   "cell_type": "markdown",
   "id": "2646a34e-a634-47ac-9fe7-73bf40ece8ae",
   "metadata": {},
   "source": [
    "# HW2/Final Project Template: Dataset Overview and Use Case Examples\n",
    "## EDS 220, Fall 2022\n",
    "\n",
    "The following is a template you can use for constructing your draft Jupyter notebooks demonstrating the features and use case examples for your chosen environmental datasets. I've included sections addressing the major themes that should be included, but there is also room for customization as well. \n",
    "\n",
    "Many of the resources provided are adapted from this template guide to notebook creation built for the \"EarthCube\" project:\n",
    "https://github.com/earthcube/NotebookTemplates"
   ]
  },
  {
   "cell_type": "markdown",
   "id": "56a405bf-2d38-4175-a931-f52905e11211",
   "metadata": {},
   "source": [
    "## Exploring the estimated annual loss due to natural hazards across the US\n",
    "- NRI Shapefile States"
   ]
  },
  {
   "cell_type": "markdown",
   "id": "dc47afd0-adb0-4d5b-8903-992b7904322e",
   "metadata": {},
   "source": [
    "## Authors\n",
    "\n",
    "- Alex Reed, MEDS, UC Santa Barbara (areed@ucsb.edu)<br>\n",
    "- Erica Dale, MEDS, UC Santa Barbara (ericadale@ucsb.edu)<br>\n",
    "- Michelle Lam, MEDS, UC Santa Barbara (michellelam@ucsb.edu) <br>\n",
    "- Wen-Tien Wang, MESM, UC Santa Barbara (wentien@ucsb.edu)"
   ]
  },
  {
   "cell_type": "markdown",
   "id": "1e8c2013-fef1-44ac-bb00-3215807cacac",
   "metadata": {},
   "source": [
    "## Table of Contents\n",
    "\n",
    "Include a summary of the various sections included in your notebook, so that users can easily skip to a section of interest. It's also good to include hyperlinks to the different sections, so that clicking on the heading sends one to that section directly. Examples are below; see also this handy guide to adding hyperlinks to Jupyter notebooks:\n",
    "https://medium.illumidesk.com/jupyter-notebook-little-known-tricks-b0866a558017\n",
    "\n",
    "The major sections you'll need for HW2 - and your group project - are shown below:\n",
    "\n",
    "[1. Purpose](#purpose)\n",
    "\n",
    "[2. Dataset Description](#overview)\n",
    "\n",
    "[3. Data I/O](#io)\n",
    "\n",
    "[4. Metadata Display and Basic Visualization](#display)\n",
    "\n",
    "[5. Use Case Examples](#usecases)\n",
    "\n",
    "[6. Create Binder Environment](#binder)\n",
    "\n",
    "[7. References](#references)"
   ]
  },
  {
   "cell_type": "markdown",
   "id": "ba52c6e3-3584-48be-b500-21578b61bd72",
   "metadata": {},
   "source": [
    "<a id='purpose'></a> \n",
    "### Notebook Purpose\n",
    "This notebook provides an introduction to using National Risk Index (NRI) data. This data is made available by the Federal Emergency Management Agency (FEMA) and is freely accessible. The purpose of this project is to assess the estimated annual loss due to natural hazards affecting states across the United States. The notebook provides instruction and example code on how to pull in the NRI data directly from the source. Historic and current data acquisition is important for planners, emergency managers, and other decision makers. With improved understanding of natural hazard risk, communities can take action to reduce the risk specific to that community. The use case examples show how local governments and communities could plan based on the different natural hazards listed in the dataset."
   ]
  },
  {
   "cell_type": "markdown",
   "id": "d429260a-2c30-44da-a5af-e100a440056a",
   "metadata": {},
   "source": [
    "<a id='overview'></a> \n",
    "### Dataset Description\n",
    "The NRI is a dataset and online tool to help illustrate the US communities most at risk for 18 natural hazards: Avalanche, Coastal Flooding, Cold Wave, Drought, Earthquake, Hail, Heat Wave, Hurricane, Ice Storm, Landslide, Lightning, Riverine Flooding, Strong Wind, Tornado, Tsunami, Volcanic Activity, Wildfire, and Winter Weather. The National Risk Index provides relative Risk Index scores and ratings based on data for Expected Annual Loss due to natural hazards, Social Vulnerability, and Community Resilience. For this project, we focused on Expected Annual Loss.\n",
    "\n",
    "#### Coverage\n",
    "The states dataset spatially covers the contiguous US and Alaska. The extent used for searching include:\n",
    "West longitude: -179.2, East longitude: -66.9, North latitude: 71.4, South latitude: 18.9\n",
    "\n",
    "#### File Format\n",
    "Data is in shapefiles accessed through .shp extension. The metadata “NRI_metadata_Novemeber2021” is an XML file accessed through .xml extension. The metadata was last updated on October 12, 2021.\n",
    "\n",
    "#### Sources\n",
    "Sources for Expected Annual Loss data include: Arizona State University’s (ASU) Center for Emergency Management and Homeland Security (CEMHS), California Department of Conservation, California Geological Survey, California Office of Emergency Services, Colorado Avalanche Information Center, CoreLogic’s Flood Services, Federal Emergency Management Agency (FEMA), Humanitarian Data Exchange (HDX), Iowa State University's Iowa Environmental Mesonet, National Aeronautics and Space Administration’s (NASA) Cooperative Open Online Landslide Repository (COOLR), National Earthquake Hazards Reduction Program (NEHRP), National Oceanic and Atmospheric Administration’s National Centers for Environmental Information (NCEI), National Oceanic and Atmospheric Administration's National Hurricane Center, National Oceanic and Atmospheric Administration's National Weather Service (NWS), National Oceanic and Atmospheric Administration's Office for Coastal Management, National Oceanic and Atmospheric Administration's Storm Prediction Center, Oregon Department of Geology and Mineral Industries, Smithsonian Institution's Global Volcanism Program, State of Hawaii’s Office of Planning’s Statewide GIS Program, U.S. Army Corps of Engineers’ Cold Regions Research and Engineering Laboratory (CRREL), U.S. Department of Agriculture's (USDA) National Agricultural Statistics Service (NASS), U.S. Forest Service's Fire Modeling Institute's Missoula Fire Sciences Lab, U.S. Forest Service's National Avalanche Center (NAC), U.S. Geological Survey (USGS), U.S. Geological Survey's Landslide Hazards Program, United Nations Office for Disaster Risk Reduction (UNDRR), University of Alaska – Fairbanks' Alaska Earthquake Center, University of Nebraska-Lincoln's National Drought Mitigation Center (NDMC), University of Southern California's Tsunami Research Center, and Washington State Department of Natural Resources."
   ]
  },
  {
   "cell_type": "markdown",
   "id": "02d5cb75-cb54-4708-8b88-459cae2ca17d",
   "metadata": {},
   "source": [
    "<a id='io'></a> \n",
    "### Dataset Input/Output \n",
    "\n",
    "1) Import all necessary packages "
   ]
  },
  {
   "cell_type": "code",
   "execution_count": 2,
   "id": "d459a1a6-9549-47f9-b6c8-a349f250a727",
   "metadata": {},
   "outputs": [],
   "source": [
    "import geopandas as gpd\n",
    "import requests\n",
    "import zipfile\n",
    "import io\n",
    "import matplotlib.pyplot as plt"
   ]
  },
  {
   "cell_type": "markdown",
   "id": "a2430adb-ac23-4bff-8319-750fd342fd85",
   "metadata": {},
   "source": [
    "2) Set any parameters that will be needed during subsequent portions of the notebook. Typical examples of parameters include:\n",
    "- names of any directories where data are stored\n",
    "- ranges of years over which data are valid\n",
    "- any thresholds or latitude/longitude ranges to be used later (e.g. dimensions of NINO3.4 region, threshold SSTA values for El Nino, etc.)"
   ]
  },
  {
   "cell_type": "markdown",
   "id": "4c7ba764-e751-484e-8cc3-9f17cca5d92a",
   "metadata": {},
   "source": [
    "#filter of our columns "
   ]
  },
  {
   "cell_type": "markdown",
   "id": "88d6d3ff-962e-450f-8061-094f8b69f731",
   "metadata": {},
   "source": [
    "3) Read in the data! If the data files are very large, you may want to consider subsetting the portion of files to be read in (see examples of this during notebooks provided in Weeks 7 and 8)."
   ]
  },
  {
   "cell_type": "code",
   "execution_count": 6,
   "id": "d37c2e5c-0ebe-481c-b4c0-0f0a4915d67d",
   "metadata": {},
   "outputs": [
    {
     "name": "stdout",
     "output_type": "stream",
     "text": [
      "Downloading shapefile...\n",
      "Done\n",
      "['NRI_Shapefile_States.dbf', 'NRI_Shapefile_States.prj', 'NRI_Shapefile_States.shp', 'NRI_Shapefile_States.shx']\n"
     ]
    }
   ],
   "source": [
    "url = 'https://hazards.fema.gov/nri/Content/StaticDocuments/DataDownload//NRI_Shapefile_States/NRI_Shapefile_States.zip'\n",
    "\n",
    "local_path = 'data/'\n",
    "print('Downloading shapefile...')\n",
    "r = requests.get(url)\n",
    "z = zipfile.ZipFile(io.BytesIO(r.content))\n",
    "print(\"Done\")\n",
    "z.extractall(path=local_path) # extract to folder\n",
    "filenames = [y for y in sorted(z.namelist()) for ending in ['dbf', 'prj', 'shp', 'shx'] if y.endswith(ending)] \n",
    "print(filenames)"
   ]
  },
  {
   "cell_type": "code",
   "execution_count": 9,
   "id": "0c0df89a-51f9-44f4-afda-943a1975b987",
   "metadata": {},
   "outputs": [],
   "source": [
    "df = gpd.read_file(\"data/NRI_Shapefile_States.shp\")"
   ]
  },
  {
   "cell_type": "markdown",
   "id": "30253e61-0707-4540-9c86-9afc6df27958",
   "metadata": {},
   "source": [
    "<a id='display'></a> \n",
    "### Metadata Display and Basic Visualization\n",
    "\n",
    "Next, provide some example commands to take a quick look at what is in your dataset. We've done some things along these lines in class by now, but you should include at least one of:\n",
    "\n",
    "- Metadata display: commands to indicate a) which variables are included in the dataset and their names; b) coordinate information associated with the data variables; c) other important metadata parameters (site names, etc); and d) any important information on missing data\n",
    "- Basic visualization: a \"quick and dirty\" plot showing generally what the data look like. Depending on your dataset, this could be either a time series or a map (no fancy coordinate reference system/projection needed yet)."
   ]
  },
  {
   "cell_type": "markdown",
   "id": "8534ecfa-6d52-4c0e-a9f2-89112e81a0b1",
   "metadata": {},
   "source": [
    "<a id='display'></a> \n",
    "#### Metadata from Federal Emergency Management Agency website"
   ]
  },
  {
   "cell_type": "code",
   "execution_count": 10,
   "id": "cc53bb33-2aa3-46cb-8213-b2c748fc7c18",
   "metadata": {},
   "outputs": [
    {
     "data": {
      "text/html": [
       "<div>\n",
       "<style scoped>\n",
       "    .dataframe tbody tr th:only-of-type {\n",
       "        vertical-align: middle;\n",
       "    }\n",
       "\n",
       "    .dataframe tbody tr th {\n",
       "        vertical-align: top;\n",
       "    }\n",
       "\n",
       "    .dataframe thead th {\n",
       "        text-align: right;\n",
       "    }\n",
       "</style>\n",
       "<table border=\"1\" class=\"dataframe\">\n",
       "  <thead>\n",
       "    <tr style=\"text-align: right;\">\n",
       "      <th></th>\n",
       "      <th>NRI_ID</th>\n",
       "      <th>STATE</th>\n",
       "      <th>STATEABBRV</th>\n",
       "      <th>STATEFIPS</th>\n",
       "      <th>POPULATION</th>\n",
       "      <th>BUILDVALUE</th>\n",
       "      <th>AGRIVALUE</th>\n",
       "      <th>AREA</th>\n",
       "      <th>EAL_SCORE</th>\n",
       "      <th>EAL_RATNG</th>\n",
       "      <th>...</th>\n",
       "      <th>WNTW_EALP</th>\n",
       "      <th>WNTW_EALPE</th>\n",
       "      <th>WNTW_EALA</th>\n",
       "      <th>WNTW_EALT</th>\n",
       "      <th>WNTW_EALS</th>\n",
       "      <th>WNTW_EALR</th>\n",
       "      <th>NRI_VER</th>\n",
       "      <th>Shape_Leng</th>\n",
       "      <th>Shape_Area</th>\n",
       "      <th>geometry</th>\n",
       "    </tr>\n",
       "  </thead>\n",
       "  <tbody>\n",
       "    <tr>\n",
       "      <th>0</th>\n",
       "      <td>S01</td>\n",
       "      <td>Alabama</td>\n",
       "      <td>AL</td>\n",
       "      <td>01</td>\n",
       "      <td>4779736</td>\n",
       "      <td>5.026065e+11</td>\n",
       "      <td>5.880985e+09</td>\n",
       "      <td>50646.710241</td>\n",
       "      <td>34.608908</td>\n",
       "      <td>Relatively Moderate</td>\n",
       "      <td>...</td>\n",
       "      <td>0.234974</td>\n",
       "      <td>1.785802e+06</td>\n",
       "      <td>11589.311425</td>\n",
       "      <td>1.971288e+06</td>\n",
       "      <td>38.620314</td>\n",
       "      <td>Relatively Low</td>\n",
       "      <td>November 2021</td>\n",
       "      <td>2.745843e+06</td>\n",
       "      <td>1.899438e+11</td>\n",
       "      <td>MULTIPOLYGON (((-9804956.966 3536018.071, -980...</td>\n",
       "    </tr>\n",
       "    <tr>\n",
       "      <th>1</th>\n",
       "      <td>S02</td>\n",
       "      <td>Alaska</td>\n",
       "      <td>AK</td>\n",
       "      <td>02</td>\n",
       "      <td>710231</td>\n",
       "      <td>9.066546e+10</td>\n",
       "      <td>7.045900e+07</td>\n",
       "      <td>570885.873384</td>\n",
       "      <td>16.044408</td>\n",
       "      <td>Relatively Low</td>\n",
       "      <td>...</td>\n",
       "      <td>0.075262</td>\n",
       "      <td>5.719919e+05</td>\n",
       "      <td>257.114671</td>\n",
       "      <td>5.809260e+05</td>\n",
       "      <td>25.326769</td>\n",
       "      <td>Very Low</td>\n",
       "      <td>November 2021</td>\n",
       "      <td>1.233706e+08</td>\n",
       "      <td>8.140880e+12</td>\n",
       "      <td>MULTIPOLYGON (((-19938160.593 6674746.261, -19...</td>\n",
       "    </tr>\n",
       "    <tr>\n",
       "      <th>2</th>\n",
       "      <td>S04</td>\n",
       "      <td>Arizona</td>\n",
       "      <td>AZ</td>\n",
       "      <td>04</td>\n",
       "      <td>6392017</td>\n",
       "      <td>6.314331e+11</td>\n",
       "      <td>2.548788e+09</td>\n",
       "      <td>113590.691628</td>\n",
       "      <td>25.714888</td>\n",
       "      <td>Relatively Moderate</td>\n",
       "      <td>...</td>\n",
       "      <td>0.079516</td>\n",
       "      <td>6.043239e+05</td>\n",
       "      <td>0.002481</td>\n",
       "      <td>6.113015e+05</td>\n",
       "      <td>25.779855</td>\n",
       "      <td>Very Low</td>\n",
       "      <td>November 2021</td>\n",
       "      <td>2.908335e+06</td>\n",
       "      <td>4.340547e+11</td>\n",
       "      <td>POLYGON ((-12695995.017 4439134.170, -12694655...</td>\n",
       "    </tr>\n",
       "    <tr>\n",
       "      <th>3</th>\n",
       "      <td>S05</td>\n",
       "      <td>Arkansas</td>\n",
       "      <td>AR</td>\n",
       "      <td>05</td>\n",
       "      <td>2915918</td>\n",
       "      <td>2.909845e+11</td>\n",
       "      <td>9.434198e+09</td>\n",
       "      <td>52034.233206</td>\n",
       "      <td>33.859489</td>\n",
       "      <td>Relatively Moderate</td>\n",
       "      <td>...</td>\n",
       "      <td>0.193497</td>\n",
       "      <td>1.470578e+06</td>\n",
       "      <td>565004.577209</td>\n",
       "      <td>1.153451e+07</td>\n",
       "      <td>70.488631</td>\n",
       "      <td>Relatively High</td>\n",
       "      <td>November 2021</td>\n",
       "      <td>2.656502e+06</td>\n",
       "      <td>2.053261e+11</td>\n",
       "      <td>POLYGON ((-9989043.095 4300705.950, -9989037.1...</td>\n",
       "    </tr>\n",
       "    <tr>\n",
       "      <th>4</th>\n",
       "      <td>S06</td>\n",
       "      <td>California</td>\n",
       "      <td>CA</td>\n",
       "      <td>06</td>\n",
       "      <td>37253956</td>\n",
       "      <td>3.848852e+12</td>\n",
       "      <td>2.885307e+10</td>\n",
       "      <td>155785.663611</td>\n",
       "      <td>100.000000</td>\n",
       "      <td>Very High</td>\n",
       "      <td>...</td>\n",
       "      <td>0.080550</td>\n",
       "      <td>6.121814e+05</td>\n",
       "      <td>0.023056</td>\n",
       "      <td>6.384323e+05</td>\n",
       "      <td>26.172018</td>\n",
       "      <td>Very Low</td>\n",
       "      <td>November 2021</td>\n",
       "      <td>7.112658e+06</td>\n",
       "      <td>6.496194e+11</td>\n",
       "      <td>MULTIPOLYGON (((-13048004.308 3865271.303, -13...</td>\n",
       "    </tr>\n",
       "  </tbody>\n",
       "</table>\n",
       "<p>5 rows × 232 columns</p>\n",
       "</div>"
      ],
      "text/plain": [
       "  NRI_ID       STATE STATEABBRV STATEFIPS  POPULATION    BUILDVALUE  \\\n",
       "0    S01     Alabama         AL        01     4779736  5.026065e+11   \n",
       "1    S02      Alaska         AK        02      710231  9.066546e+10   \n",
       "2    S04     Arizona         AZ        04     6392017  6.314331e+11   \n",
       "3    S05    Arkansas         AR        05     2915918  2.909845e+11   \n",
       "4    S06  California         CA        06    37253956  3.848852e+12   \n",
       "\n",
       "      AGRIVALUE           AREA   EAL_SCORE            EAL_RATNG  ...  \\\n",
       "0  5.880985e+09   50646.710241   34.608908  Relatively Moderate  ...   \n",
       "1  7.045900e+07  570885.873384   16.044408       Relatively Low  ...   \n",
       "2  2.548788e+09  113590.691628   25.714888  Relatively Moderate  ...   \n",
       "3  9.434198e+09   52034.233206   33.859489  Relatively Moderate  ...   \n",
       "4  2.885307e+10  155785.663611  100.000000            Very High  ...   \n",
       "\n",
       "   WNTW_EALP    WNTW_EALPE      WNTW_EALA     WNTW_EALT  WNTW_EALS  \\\n",
       "0   0.234974  1.785802e+06   11589.311425  1.971288e+06  38.620314   \n",
       "1   0.075262  5.719919e+05     257.114671  5.809260e+05  25.326769   \n",
       "2   0.079516  6.043239e+05       0.002481  6.113015e+05  25.779855   \n",
       "3   0.193497  1.470578e+06  565004.577209  1.153451e+07  70.488631   \n",
       "4   0.080550  6.121814e+05       0.023056  6.384323e+05  26.172018   \n",
       "\n",
       "         WNTW_EALR        NRI_VER    Shape_Leng    Shape_Area  \\\n",
       "0   Relatively Low  November 2021  2.745843e+06  1.899438e+11   \n",
       "1         Very Low  November 2021  1.233706e+08  8.140880e+12   \n",
       "2         Very Low  November 2021  2.908335e+06  4.340547e+11   \n",
       "3  Relatively High  November 2021  2.656502e+06  2.053261e+11   \n",
       "4         Very Low  November 2021  7.112658e+06  6.496194e+11   \n",
       "\n",
       "                                            geometry  \n",
       "0  MULTIPOLYGON (((-9804956.966 3536018.071, -980...  \n",
       "1  MULTIPOLYGON (((-19938160.593 6674746.261, -19...  \n",
       "2  POLYGON ((-12695995.017 4439134.170, -12694655...  \n",
       "3  POLYGON ((-9989043.095 4300705.950, -9989037.1...  \n",
       "4  MULTIPOLYGON (((-13048004.308 3865271.303, -13...  \n",
       "\n",
       "[5 rows x 232 columns]"
      ]
     },
     "execution_count": 10,
     "metadata": {},
     "output_type": "execute_result"
    }
   ],
   "source": [
    "# let's check out our data\n",
    "df.head()"
   ]
  },
  {
   "cell_type": "code",
   "execution_count": null,
   "id": "3c554324-6f80-4983-bb3d-c948d48fc6f9",
   "metadata": {},
   "outputs": [],
   "source": [
    "\n"
   ]
  },
  {
   "cell_type": "markdown",
   "id": "62354cdf-609f-487d-be51-9ea306997a69",
   "metadata": {},
   "source": [
    "<a id='usecases'></a> \n",
    "### Use Case Examples"
   ]
  },
  {
   "cell_type": "markdown",
   "id": "9e5b04a9-b2bb-40ed-bb8c-9c75d3494c38",
   "metadata": {},
   "source": [
    "This is the \"meat\" of the notebook, and what will take the majority of the time to present in class. This section should provide:\n",
    "1) A plain-text summary (1-2 paragraphs) of the use case example you have chosen: include the target users and audience, and potential applicability. \n",
    "\n",
    "2) Markdown and code blocks demonstrating how one walks through the desired use case example. This should be similar to the labs we've done in class: you might want to demonstrate how to isolate a particularly interesting time period, then create an image showing a feature you're interested in, for example.\n",
    "\n",
    "3) A discussion of the results and how they might be extended on further analysis. For example, if there are data quality issues which impact the results, you could discuss how these might be mitigated with additional information/analysis.\n",
    "\n",
    "Just keep in mind, you'll have roughly 20 minutes for your full presentation, and that goes surprisingly quickly! Probably 2-3 diagnostics is the most you'll be able to get through (you could try practicing with your group members to get a sense of timing).\n"
   ]
  },
  {
   "cell_type": "markdown",
   "id": "9d07de0d-1e81-442a-a895-7b7fd7906385",
   "metadata": {},
   "source": [
    "<a id='binder'></a> \n",
    "### Create Binder Environment\n",
    "\n",
    "The last step is to create a Binder environment for your project, so that we don't have to spend time configuring everyone's environment each time we switch between group presentations. Instructions are below:\n",
    "\n",
    " - Assemble all of the data needed in your Github repo: Jupyter notebooks, a README file, and any datasets needed (these should be small, if included within the repo). Larger datasets should be stored on a separate server, and access codes included within the Jupyter notebook as discussed above. \n",
    " \n",
    " - Create an _environment_ file: this is a text file which contains information on the packages needed in order to execute your code. The filename should be \"environment.yml\": an example that you can use for the proper syntax is included in this template repo. To determine which packages to include, you'll probably want to start by displaying the packages loaded in your environment: you can use the command `conda list -n [environment_name]` to get a list.\n",
    " \n",
    " More information on environment files can be found here:\n",
    " https://docs.conda.io/projects/conda/en/latest/user-guide/tasks/manage-environments.html#\n",
    "\n",
    " - Create Binder. Use http://mybinder.org to create a  URL for your notebook Binder (you will need to enter your GitHub repo URL). You can also add a Launch Binder button directly to your GitHub repo, by including the following in your README.md:\n",
    "\n",
    "```\n",
    "launch with myBinder\n",
    "[![Binder](https://mybinder.org/badge.svg)](https://mybinder.org/v2/gh/<path to your repo>)\n",
    "```"
   ]
  },
  {
   "cell_type": "markdown",
   "id": "c62c774b-8a7c-4f47-9c07-7f9823c48473",
   "metadata": {},
   "source": [
    "<a id='references'></a> \n",
    "### References\n",
    "\n",
    "List relevant references. Here are some additional resources on creating professional, shareable notebooks you may find useful:\n",
    "\n",
    "1. Notebook sharing guidelines from reproducible-science-curriculum: https://reproducible-science-curriculum.github.io/publication-RR-Jupyter/\n",
    "2. Guide for developing shareable notebooks by Kevin Coakley, SDSC: https://github.com/kevincoakley/sharing-jupyter-notebooks/raw/master/Jupyter-Notebooks-Sharing-Recommendations.pdf\n",
    "3. Guide for sharing notebooks by Andrea Zonca, SDSC: https://zonca.dev/2020/09/how-to-share-jupyter-notebooks.html\n",
    "4. Jupyter Notebook Best Practices: https://towardsdatascience.com/jupyter-notebook-best-practices-f430a6ba8c69\n",
    "5. Introduction to Jupyter templates nbextension: https://towardsdatascience.com/stop-copy-pasting-notebooks-embrace-jupyter-templates-6bd7b6c00b94  \n",
    "    5.1. Table of Contents (Toc2) readthedocs: https://jupyter-contrib-nbextensions.readthedocs.io/en/latest/nbextensions/toc2/README.html  \n",
    "    5.2. Steps to install toc2: https://stackoverflow.com/questions/23435723/installing-ipython-notebook-table-of-contents\n",
    "6. Rule A, Birmingham A, Zuniga C, Altintas I, Huang SC, et al. (2019) Ten simple rules for writing and sharing computational analyses in Jupyter Notebooks. PLOS Computational Biology 15(7): e1007007. https://doi.org/10.1371/journal.pcbi.1007007. Supplementary materials: example notebooks (https://github.com/jupyter-guide/ten-rules-jupyter) and tutorial (https://github.com/ISMB-ECCB-2019-Tutorial-AM4/reproducible-computational-workflows)\n",
    "7. Languages supported by Jupyter kernels: https://github.com/jupyter/jupyter/wiki/Jupyter-kernels\n",
    "8. EarthCube notebooks presented at EC Annual Meeting 2020: https://www.earthcube.org/notebooks\n",
    "9. Manage your Python Virtual Environment with Conda: https://towardsdatascience.com/manage-your-python-virtual-environment-with-conda-a0d2934d5195\n",
    "10. Venv - Creation of Virtual Environments: https://docs.python.org/3/library/venv.html"
   ]
  },
  {
   "cell_type": "code",
   "execution_count": null,
   "id": "e9f10df5-100c-4f4a-a1c3-bd417b524a61",
   "metadata": {},
   "outputs": [],
   "source": []
  }
 ],
 "metadata": {
  "kernelspec": {
   "display_name": "Python 3 (ipykernel)",
   "language": "python",
   "name": "python3"
  },
  "language_info": {
   "codemirror_mode": {
    "name": "ipython",
    "version": 3
   },
   "file_extension": ".py",
   "mimetype": "text/x-python",
   "name": "python",
   "nbconvert_exporter": "python",
   "pygments_lexer": "ipython3",
   "version": "3.10.5"
  }
 },
 "nbformat": 4,
 "nbformat_minor": 5
}
